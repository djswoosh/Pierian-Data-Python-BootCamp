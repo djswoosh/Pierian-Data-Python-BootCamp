{
  "nbformat": 4,
  "nbformat_minor": 0,
  "metadata": {
    "colab": {
      "name": "Tuple Unpackingipynb",
      "provenance": [],
      "authorship_tag": "ABX9TyOOXd6YMedGi/u2NV4MS1Uh",
      "include_colab_link": true
    },
    "kernelspec": {
      "name": "python3",
      "display_name": "Python 3"
    }
  },
  "cells": [
    {
      "cell_type": "markdown",
      "metadata": {
        "id": "view-in-github",
        "colab_type": "text"
      },
      "source": [
        "<a href=\"https://colab.research.google.com/github/djswoosh/Pierian-Data-Python-BootCamp/blob/main/Tuple_Unpackingipynb.ipynb\" target=\"_parent\"><img src=\"https://colab.research.google.com/assets/colab-badge.svg\" alt=\"Open In Colab\"/></a>"
      ]
    },
    {
      "cell_type": "code",
      "metadata": {
        "id": "9-DdrkszCXj3"
      },
      "source": [
        "stock_prices = [('APPL', 200), ('GOOG', 400), ('MSFT', 100)]"
      ],
      "execution_count": 2,
      "outputs": []
    },
    {
      "cell_type": "code",
      "metadata": {
        "colab": {
          "base_uri": "https://localhost:8080/"
        },
        "id": "G_lJ2u1dDwGh",
        "outputId": "db7d5bfa-096a-4373-b0c2-ac122de98d29"
      },
      "source": [
        "for item in stock_prices:\n",
        "  print(item)"
      ],
      "execution_count": 4,
      "outputs": [
        {
          "output_type": "stream",
          "text": [
            "('APPL', 200)\n",
            "('GOOG', 400)\n",
            "('MSFT', 100)\n"
          ],
          "name": "stdout"
        }
      ]
    },
    {
      "cell_type": "code",
      "metadata": {
        "colab": {
          "base_uri": "https://localhost:8080/"
        },
        "id": "-FSiP08KD-6u",
        "outputId": "d53d478f-237f-4e80-92be-9ad37343cae6"
      },
      "source": [
        "for ticker, price in stock_prices:\n",
        "  print(price+(0.1*price))"
      ],
      "execution_count": 9,
      "outputs": [
        {
          "output_type": "stream",
          "text": [
            "220.0\n",
            "440.0\n",
            "110.0\n"
          ],
          "name": "stdout"
        }
      ]
    },
    {
      "cell_type": "code",
      "metadata": {
        "id": "i1Lu8ug7EOv8"
      },
      "source": [
        "work_hours = [('Abby',100), ('Billy',400), ('Cassie',800)]"
      ],
      "execution_count": 41,
      "outputs": []
    },
    {
      "cell_type": "code",
      "metadata": {
        "id": "exGKN90zEpJH"
      },
      "source": [
        "def employee_check(work_hours):\n",
        "\n",
        "  current_max =0\n",
        "  employee_of_month = ''\n",
        "\n",
        "  for employee, hours in work_hours:\n",
        "    if hours > current_max:\n",
        "      current_max = hours\n",
        "      employee_of_month = employee\n",
        "    else:\n",
        "          pass\n",
        "#Return\n",
        "  return (employee_of_month,current_max)"
      ],
      "execution_count": 39,
      "outputs": []
    },
    {
      "cell_type": "code",
      "metadata": {
        "colab": {
          "base_uri": "https://localhost:8080/"
        },
        "id": "vjU4FNvzF0Kd",
        "outputId": "218ef17b-1e21-46b6-e8a4-fb70a5e675f4"
      },
      "source": [
        "employee_check(work_hours)"
      ],
      "execution_count": 42,
      "outputs": [
        {
          "output_type": "execute_result",
          "data": {
            "text/plain": [
              "('Cassie', 800)"
            ]
          },
          "metadata": {
            "tags": []
          },
          "execution_count": 42
        }
      ]
    },
    {
      "cell_type": "code",
      "metadata": {
        "id": "9-fP7qsCF-Ya"
      },
      "source": [
        "result = employee_check(work_hours)"
      ],
      "execution_count": 43,
      "outputs": []
    },
    {
      "cell_type": "code",
      "metadata": {
        "colab": {
          "base_uri": "https://localhost:8080/"
        },
        "id": "dqUL6OOBHVSh",
        "outputId": "2ebbfb63-fca5-4b62-c192-85f86cfa2398"
      },
      "source": [
        "result"
      ],
      "execution_count": 44,
      "outputs": [
        {
          "output_type": "execute_result",
          "data": {
            "text/plain": [
              "('Cassie', 800)"
            ]
          },
          "metadata": {
            "tags": []
          },
          "execution_count": 44
        }
      ]
    },
    {
      "cell_type": "code",
      "metadata": {
        "id": "Gr8fvTsvHWKG"
      },
      "source": [
        "name, hours = employee_check(work_hours)"
      ],
      "execution_count": 45,
      "outputs": []
    },
    {
      "cell_type": "code",
      "metadata": {
        "colab": {
          "base_uri": "https://localhost:8080/",
          "height": 35
        },
        "id": "MvZtLf7_HgfK",
        "outputId": "d9f33624-6e8c-4037-9839-d1af7aeb14be"
      },
      "source": [
        "name"
      ],
      "execution_count": 46,
      "outputs": [
        {
          "output_type": "execute_result",
          "data": {
            "application/vnd.google.colaboratory.intrinsic+json": {
              "type": "string"
            },
            "text/plain": [
              "'Cassie'"
            ]
          },
          "metadata": {
            "tags": []
          },
          "execution_count": 46
        }
      ]
    },
    {
      "cell_type": "code",
      "metadata": {
        "colab": {
          "base_uri": "https://localhost:8080/"
        },
        "id": "kVNdcpsGHhc_",
        "outputId": "df26494c-b73e-4136-fa9e-f4b4f8e251be"
      },
      "source": [
        "hours"
      ],
      "execution_count": 47,
      "outputs": [
        {
          "output_type": "execute_result",
          "data": {
            "text/plain": [
              "800"
            ]
          },
          "metadata": {
            "tags": []
          },
          "execution_count": 47
        }
      ]
    },
    {
      "cell_type": "code",
      "metadata": {
        "id": "_Ed8owpTHihf"
      },
      "source": [
        ""
      ],
      "execution_count": null,
      "outputs": []
    }
  ]
}